{
  "nbformat": 4,
  "nbformat_minor": 0,
  "metadata": {
    "colab": {
      "provenance": [],
      "collapsed_sections": [],
      "include_colab_link": true
    },
    "kernelspec": {
      "name": "python3",
      "display_name": "Python 3"
    },
    "language_info": {
      "name": "python"
    }
  },
  "cells": [
    {
      "cell_type": "markdown",
      "metadata": {
        "id": "view-in-github",
        "colab_type": "text"
      },
      "source": [
        "<a href=\"https://colab.research.google.com/github/rapidmethodstomata/rapidmethodstomata/blob/main/Detection_withcsv.ipynb\" target=\"_parent\"><img src=\"https://colab.research.google.com/assets/colab-badge.svg\" alt=\"Open In Colab\"/></a>"
      ]
    },
    {
      "cell_type": "markdown",
      "source": [
        "Rice Stomata Detection 400x"
      ],
      "metadata": {
        "id": "UKQJGe3PbyDm"
      }
    },
    {
      "cell_type": "code",
      "execution_count": 1,
      "metadata": {
        "id": "8dDN6KIqbq4d",
        "colab": {
          "base_uri": "https://localhost:8080/"
        },
        "outputId": "eaceca43-d1a0-4f72-ff97-afa63ab6bea2"
      },
      "outputs": [
        {
          "output_type": "stream",
          "name": "stdout",
          "text": [
            "Cloning into 'yolov5'...\n",
            "remote: Enumerating objects: 14419, done.\u001b[K\n",
            "remote: Counting objects: 100% (40/40), done.\u001b[K\n",
            "remote: Compressing objects: 100% (29/29), done.\u001b[K\n",
            "remote: Total 14419 (delta 15), reused 25 (delta 11), pack-reused 14379\u001b[K\n",
            "Receiving objects: 100% (14419/14419), 13.40 MiB | 29.38 MiB/s, done.\n",
            "Resolving deltas: 100% (9965/9965), done.\n",
            "/content/yolov5\n"
          ]
        }
      ],
      "source": [
        "# clone YOLOv5 repository\n",
        "!git clone https://github.com/ultralytics/yolov5  # clone repo\n",
        "%cd yolov5"
      ]
    },
    {
      "cell_type": "code",
      "source": [
        "# install dependencies as necessary\n",
        "!pip install -qr requirements.txt  # install dependencies (ignore errors)\n",
        "import torch\n",
        "\n",
        "from IPython.display import Image, clear_output  # to display images\n",
        "# clear_output()\n",
        "print('Setup complete. Using torch %s %s' % (torch.__version__, torch.cuda.get_device_properties(0) if torch.cuda.is_available() else 'CPU'))"
      ],
      "metadata": {
        "id": "oog-zLO6cCKM",
        "colab": {
          "base_uri": "https://localhost:8080/"
        },
        "outputId": "a726c9cc-46a0-4157-f04e-3401c19653ed"
      },
      "execution_count": 2,
      "outputs": [
        {
          "output_type": "stream",
          "name": "stdout",
          "text": [
            "\u001b[?25l\r\u001b[K     |▏                               | 10 kB 10.1 MB/s eta 0:00:01\r\u001b[K     |▍                               | 20 kB 5.4 MB/s eta 0:00:01\r\u001b[K     |▋                               | 30 kB 7.8 MB/s eta 0:00:01\r\u001b[K     |▉                               | 40 kB 4.3 MB/s eta 0:00:01\r\u001b[K     |█                               | 51 kB 4.3 MB/s eta 0:00:01\r\u001b[K     |█▎                              | 61 kB 5.1 MB/s eta 0:00:01\r\u001b[K     |█▌                              | 71 kB 5.3 MB/s eta 0:00:01\r\u001b[K     |█▊                              | 81 kB 6.0 MB/s eta 0:00:01\r\u001b[K     |█▉                              | 92 kB 6.1 MB/s eta 0:00:01\r\u001b[K     |██                              | 102 kB 4.9 MB/s eta 0:00:01\r\u001b[K     |██▎                             | 112 kB 4.9 MB/s eta 0:00:01\r\u001b[K     |██▌                             | 122 kB 4.9 MB/s eta 0:00:01\r\u001b[K     |██▊                             | 133 kB 4.9 MB/s eta 0:00:01\r\u001b[K     |███                             | 143 kB 4.9 MB/s eta 0:00:01\r\u001b[K     |███▏                            | 153 kB 4.9 MB/s eta 0:00:01\r\u001b[K     |███▍                            | 163 kB 4.9 MB/s eta 0:00:01\r\u001b[K     |███▌                            | 174 kB 4.9 MB/s eta 0:00:01\r\u001b[K     |███▊                            | 184 kB 4.9 MB/s eta 0:00:01\r\u001b[K     |████                            | 194 kB 4.9 MB/s eta 0:00:01\r\u001b[K     |████▏                           | 204 kB 4.9 MB/s eta 0:00:01\r\u001b[K     |████▍                           | 215 kB 4.9 MB/s eta 0:00:01\r\u001b[K     |████▋                           | 225 kB 4.9 MB/s eta 0:00:01\r\u001b[K     |████▉                           | 235 kB 4.9 MB/s eta 0:00:01\r\u001b[K     |█████                           | 245 kB 4.9 MB/s eta 0:00:01\r\u001b[K     |█████▎                          | 256 kB 4.9 MB/s eta 0:00:01\r\u001b[K     |█████▍                          | 266 kB 4.9 MB/s eta 0:00:01\r\u001b[K     |█████▋                          | 276 kB 4.9 MB/s eta 0:00:01\r\u001b[K     |█████▉                          | 286 kB 4.9 MB/s eta 0:00:01\r\u001b[K     |██████                          | 296 kB 4.9 MB/s eta 0:00:01\r\u001b[K     |██████▎                         | 307 kB 4.9 MB/s eta 0:00:01\r\u001b[K     |██████▌                         | 317 kB 4.9 MB/s eta 0:00:01\r\u001b[K     |██████▊                         | 327 kB 4.9 MB/s eta 0:00:01\r\u001b[K     |███████                         | 337 kB 4.9 MB/s eta 0:00:01\r\u001b[K     |███████                         | 348 kB 4.9 MB/s eta 0:00:01\r\u001b[K     |███████▎                        | 358 kB 4.9 MB/s eta 0:00:01\r\u001b[K     |███████▌                        | 368 kB 4.9 MB/s eta 0:00:01\r\u001b[K     |███████▊                        | 378 kB 4.9 MB/s eta 0:00:01\r\u001b[K     |████████                        | 389 kB 4.9 MB/s eta 0:00:01\r\u001b[K     |████████▏                       | 399 kB 4.9 MB/s eta 0:00:01\r\u001b[K     |████████▍                       | 409 kB 4.9 MB/s eta 0:00:01\r\u001b[K     |████████▋                       | 419 kB 4.9 MB/s eta 0:00:01\r\u001b[K     |████████▉                       | 430 kB 4.9 MB/s eta 0:00:01\r\u001b[K     |█████████                       | 440 kB 4.9 MB/s eta 0:00:01\r\u001b[K     |█████████▏                      | 450 kB 4.9 MB/s eta 0:00:01\r\u001b[K     |█████████▍                      | 460 kB 4.9 MB/s eta 0:00:01\r\u001b[K     |█████████▋                      | 471 kB 4.9 MB/s eta 0:00:01\r\u001b[K     |█████████▉                      | 481 kB 4.9 MB/s eta 0:00:01\r\u001b[K     |██████████                      | 491 kB 4.9 MB/s eta 0:00:01\r\u001b[K     |██████████▎                     | 501 kB 4.9 MB/s eta 0:00:01\r\u001b[K     |██████████▌                     | 512 kB 4.9 MB/s eta 0:00:01\r\u001b[K     |██████████▋                     | 522 kB 4.9 MB/s eta 0:00:01\r\u001b[K     |██████████▉                     | 532 kB 4.9 MB/s eta 0:00:01\r\u001b[K     |███████████                     | 542 kB 4.9 MB/s eta 0:00:01\r\u001b[K     |███████████▎                    | 552 kB 4.9 MB/s eta 0:00:01\r\u001b[K     |███████████▌                    | 563 kB 4.9 MB/s eta 0:00:01\r\u001b[K     |███████████▊                    | 573 kB 4.9 MB/s eta 0:00:01\r\u001b[K     |████████████                    | 583 kB 4.9 MB/s eta 0:00:01\r\u001b[K     |████████████▏                   | 593 kB 4.9 MB/s eta 0:00:01\r\u001b[K     |████████████▍                   | 604 kB 4.9 MB/s eta 0:00:01\r\u001b[K     |████████████▌                   | 614 kB 4.9 MB/s eta 0:00:01\r\u001b[K     |████████████▊                   | 624 kB 4.9 MB/s eta 0:00:01\r\u001b[K     |█████████████                   | 634 kB 4.9 MB/s eta 0:00:01\r\u001b[K     |█████████████▏                  | 645 kB 4.9 MB/s eta 0:00:01\r\u001b[K     |█████████████▍                  | 655 kB 4.9 MB/s eta 0:00:01\r\u001b[K     |█████████████▋                  | 665 kB 4.9 MB/s eta 0:00:01\r\u001b[K     |█████████████▉                  | 675 kB 4.9 MB/s eta 0:00:01\r\u001b[K     |██████████████                  | 686 kB 4.9 MB/s eta 0:00:01\r\u001b[K     |██████████████▏                 | 696 kB 4.9 MB/s eta 0:00:01\r\u001b[K     |██████████████▍                 | 706 kB 4.9 MB/s eta 0:00:01\r\u001b[K     |██████████████▋                 | 716 kB 4.9 MB/s eta 0:00:01\r\u001b[K     |██████████████▉                 | 727 kB 4.9 MB/s eta 0:00:01\r\u001b[K     |███████████████                 | 737 kB 4.9 MB/s eta 0:00:01\r\u001b[K     |███████████████▎                | 747 kB 4.9 MB/s eta 0:00:01\r\u001b[K     |███████████████▌                | 757 kB 4.9 MB/s eta 0:00:01\r\u001b[K     |███████████████▊                | 768 kB 4.9 MB/s eta 0:00:01\r\u001b[K     |████████████████                | 778 kB 4.9 MB/s eta 0:00:01\r\u001b[K     |████████████████                | 788 kB 4.9 MB/s eta 0:00:01\r\u001b[K     |████████████████▎               | 798 kB 4.9 MB/s eta 0:00:01\r\u001b[K     |████████████████▌               | 808 kB 4.9 MB/s eta 0:00:01\r\u001b[K     |████████████████▊               | 819 kB 4.9 MB/s eta 0:00:01\r\u001b[K     |█████████████████               | 829 kB 4.9 MB/s eta 0:00:01\r\u001b[K     |█████████████████▏              | 839 kB 4.9 MB/s eta 0:00:01\r\u001b[K     |█████████████████▍              | 849 kB 4.9 MB/s eta 0:00:01\r\u001b[K     |█████████████████▋              | 860 kB 4.9 MB/s eta 0:00:01\r\u001b[K     |█████████████████▊              | 870 kB 4.9 MB/s eta 0:00:01\r\u001b[K     |██████████████████              | 880 kB 4.9 MB/s eta 0:00:01\r\u001b[K     |██████████████████▏             | 890 kB 4.9 MB/s eta 0:00:01\r\u001b[K     |██████████████████▍             | 901 kB 4.9 MB/s eta 0:00:01\r\u001b[K     |██████████████████▋             | 911 kB 4.9 MB/s eta 0:00:01\r\u001b[K     |██████████████████▉             | 921 kB 4.9 MB/s eta 0:00:01\r\u001b[K     |███████████████████             | 931 kB 4.9 MB/s eta 0:00:01\r\u001b[K     |███████████████████▎            | 942 kB 4.9 MB/s eta 0:00:01\r\u001b[K     |███████████████████▌            | 952 kB 4.9 MB/s eta 0:00:01\r\u001b[K     |███████████████████▋            | 962 kB 4.9 MB/s eta 0:00:01\r\u001b[K     |███████████████████▉            | 972 kB 4.9 MB/s eta 0:00:01\r\u001b[K     |████████████████████            | 983 kB 4.9 MB/s eta 0:00:01\r\u001b[K     |████████████████████▎           | 993 kB 4.9 MB/s eta 0:00:01\r\u001b[K     |████████████████████▌           | 1.0 MB 4.9 MB/s eta 0:00:01\r\u001b[K     |████████████████████▊           | 1.0 MB 4.9 MB/s eta 0:00:01\r\u001b[K     |█████████████████████           | 1.0 MB 4.9 MB/s eta 0:00:01\r\u001b[K     |█████████████████████▏          | 1.0 MB 4.9 MB/s eta 0:00:01\r\u001b[K     |█████████████████████▎          | 1.0 MB 4.9 MB/s eta 0:00:01\r\u001b[K     |█████████████████████▌          | 1.1 MB 4.9 MB/s eta 0:00:01\r\u001b[K     |█████████████████████▊          | 1.1 MB 4.9 MB/s eta 0:00:01\r\u001b[K     |██████████████████████          | 1.1 MB 4.9 MB/s eta 0:00:01\r\u001b[K     |██████████████████████▏         | 1.1 MB 4.9 MB/s eta 0:00:01\r\u001b[K     |██████████████████████▍         | 1.1 MB 4.9 MB/s eta 0:00:01\r\u001b[K     |██████████████████████▋         | 1.1 MB 4.9 MB/s eta 0:00:01\r\u001b[K     |██████████████████████▉         | 1.1 MB 4.9 MB/s eta 0:00:01\r\u001b[K     |███████████████████████         | 1.1 MB 4.9 MB/s eta 0:00:01\r\u001b[K     |███████████████████████▏        | 1.1 MB 4.9 MB/s eta 0:00:01\r\u001b[K     |███████████████████████▍        | 1.1 MB 4.9 MB/s eta 0:00:01\r\u001b[K     |███████████████████████▋        | 1.2 MB 4.9 MB/s eta 0:00:01\r\u001b[K     |███████████████████████▉        | 1.2 MB 4.9 MB/s eta 0:00:01\r\u001b[K     |████████████████████████        | 1.2 MB 4.9 MB/s eta 0:00:01\r\u001b[K     |████████████████████████▎       | 1.2 MB 4.9 MB/s eta 0:00:01\r\u001b[K     |████████████████████████▌       | 1.2 MB 4.9 MB/s eta 0:00:01\r\u001b[K     |████████████████████████▊       | 1.2 MB 4.9 MB/s eta 0:00:01\r\u001b[K     |████████████████████████▉       | 1.2 MB 4.9 MB/s eta 0:00:01\r\u001b[K     |█████████████████████████       | 1.2 MB 4.9 MB/s eta 0:00:01\r\u001b[K     |█████████████████████████▎      | 1.2 MB 4.9 MB/s eta 0:00:01\r\u001b[K     |█████████████████████████▌      | 1.2 MB 4.9 MB/s eta 0:00:01\r\u001b[K     |█████████████████████████▊      | 1.3 MB 4.9 MB/s eta 0:00:01\r\u001b[K     |██████████████████████████      | 1.3 MB 4.9 MB/s eta 0:00:01\r\u001b[K     |██████████████████████████▏     | 1.3 MB 4.9 MB/s eta 0:00:01\r\u001b[K     |██████████████████████████▍     | 1.3 MB 4.9 MB/s eta 0:00:01\r\u001b[K     |██████████████████████████▌     | 1.3 MB 4.9 MB/s eta 0:00:01\r\u001b[K     |██████████████████████████▊     | 1.3 MB 4.9 MB/s eta 0:00:01\r\u001b[K     |███████████████████████████     | 1.3 MB 4.9 MB/s eta 0:00:01\r\u001b[K     |███████████████████████████▏    | 1.3 MB 4.9 MB/s eta 0:00:01\r\u001b[K     |███████████████████████████▍    | 1.3 MB 4.9 MB/s eta 0:00:01\r\u001b[K     |███████████████████████████▋    | 1.4 MB 4.9 MB/s eta 0:00:01\r\u001b[K     |███████████████████████████▉    | 1.4 MB 4.9 MB/s eta 0:00:01\r\u001b[K     |████████████████████████████    | 1.4 MB 4.9 MB/s eta 0:00:01\r\u001b[K     |████████████████████████████▎   | 1.4 MB 4.9 MB/s eta 0:00:01\r\u001b[K     |████████████████████████████▍   | 1.4 MB 4.9 MB/s eta 0:00:01\r\u001b[K     |████████████████████████████▋   | 1.4 MB 4.9 MB/s eta 0:00:01\r\u001b[K     |████████████████████████████▉   | 1.4 MB 4.9 MB/s eta 0:00:01\r\u001b[K     |█████████████████████████████   | 1.4 MB 4.9 MB/s eta 0:00:01\r\u001b[K     |█████████████████████████████▎  | 1.4 MB 4.9 MB/s eta 0:00:01\r\u001b[K     |█████████████████████████████▌  | 1.4 MB 4.9 MB/s eta 0:00:01\r\u001b[K     |█████████████████████████████▊  | 1.5 MB 4.9 MB/s eta 0:00:01\r\u001b[K     |██████████████████████████████  | 1.5 MB 4.9 MB/s eta 0:00:01\r\u001b[K     |██████████████████████████████  | 1.5 MB 4.9 MB/s eta 0:00:01\r\u001b[K     |██████████████████████████████▎ | 1.5 MB 4.9 MB/s eta 0:00:01\r\u001b[K     |██████████████████████████████▌ | 1.5 MB 4.9 MB/s eta 0:00:01\r\u001b[K     |██████████████████████████████▊ | 1.5 MB 4.9 MB/s eta 0:00:01\r\u001b[K     |███████████████████████████████ | 1.5 MB 4.9 MB/s eta 0:00:01\r\u001b[K     |███████████████████████████████▏| 1.5 MB 4.9 MB/s eta 0:00:01\r\u001b[K     |███████████████████████████████▍| 1.5 MB 4.9 MB/s eta 0:00:01\r\u001b[K     |███████████████████████████████▋| 1.5 MB 4.9 MB/s eta 0:00:01\r\u001b[K     |███████████████████████████████▉| 1.6 MB 4.9 MB/s eta 0:00:01\r\u001b[K     |████████████████████████████████| 1.6 MB 4.9 MB/s eta 0:00:01\r\u001b[K     |████████████████████████████████| 1.6 MB 4.9 MB/s \n",
            "\u001b[?25hSetup complete. Using torch 1.12.1+cu113 CPU\n"
          ]
        }
      ]
    },
    {
      "cell_type": "code",
      "source": [
        "# Download google drive to google colab\n",
        "from google.colab import drive\n",
        "drive.mount('/content/drive')"
      ],
      "metadata": {
        "id": "gJL5GDZ4cFU2",
        "colab": {
          "base_uri": "https://localhost:8080/"
        },
        "outputId": "b6e0dba2-eeec-433c-b27e-06c1c30dbd58"
      },
      "execution_count": 3,
      "outputs": [
        {
          "output_type": "stream",
          "name": "stdout",
          "text": [
            "Mounted at /content/drive\n"
          ]
        }
      ]
    },
    {
      "cell_type": "code",
      "source": [
        "# Run Stomata detection\n",
        "# when we ran this, we saw .007 second inference time. That is 140 FPS on a TESLA P100!\n",
        "# use the best weights!\n",
        "%cd /content/yolov5/\n",
        "!python detect.py --weights /content/drive/MyDrive/Wheat/Wheat_detection_100x.pt --img 416 --conf 0.4 --source /content/drive/MyDrive/Wheat/WheatImages/ --save-txt 2> current_res && cat current_res\n",
        "!echo \"FileName, #Stomata\" > result.csv\n",
        "!cat current_res |grep ^image|awk '{print $3\",\" $5}'|sed 's/://g' >> result.csv"
      ],
      "metadata": {
        "id": "8-ObDPYpcLIr",
        "colab": {
          "base_uri": "https://localhost:8080/"
        },
        "outputId": "d8370d40-55e0-464d-dfe9-1963daae2251"
      },
      "execution_count": 13,
      "outputs": [
        {
          "output_type": "stream",
          "name": "stdout",
          "text": [
            "/content/yolov5\n",
            "\u001b[34m\u001b[1mdetect: \u001b[0mweights=['/content/drive/MyDrive/Wheat/Wheat_detection_100x.pt'], source=/content/drive/MyDrive/Wheat/WheatImages/, data=data/coco128.yaml, imgsz=[416, 416], conf_thres=0.4, iou_thres=0.45, max_det=1000, device=, view_img=False, save_txt=True, save_conf=False, save_crop=False, nosave=False, classes=None, agnostic_nms=False, augment=False, visualize=False, update=False, project=runs/detect, name=exp, exist_ok=False, line_thickness=3, hide_labels=False, hide_conf=False, half=False, dnn=False, vid_stride=1\n",
            "YOLOv5 🚀 v6.2-208-g8236d88 Python-3.7.15 torch-1.12.1+cu113 CPU\n",
            "\n",
            "Fusing layers... \n",
            "custom_YOLOv5s summary: 232 layers, 7246518 parameters, 0 gradients\n",
            "image 1/8 /content/drive/.shortcut-targets-by-id/1utdNO4hGJ5k4ywCz6vm_AckvDzHz4qbs/Wheat/WheatImages/Wheat_Cadenza_1_10_W_Ab_X100_20210928.jpg: 320x416 270 Stomatas, 171.8ms\n",
            "image 2/8 /content/drive/.shortcut-targets-by-id/1utdNO4hGJ5k4ywCz6vm_AckvDzHz4qbs/Wheat/WheatImages/Wheat_Cadenza_1_8_W_Ab_X100_20210928.jpg: 320x416 248 Stomatas, 146.8ms\n",
            "image 3/8 /content/drive/.shortcut-targets-by-id/1utdNO4hGJ5k4ywCz6vm_AckvDzHz4qbs/Wheat/WheatImages/Wheat_Cadenza_2_1_W_Ab_X100_20210928.jpg: 320x416 238 Stomatas, 150.0ms\n",
            "image 4/8 /content/drive/.shortcut-targets-by-id/1utdNO4hGJ5k4ywCz6vm_AckvDzHz4qbs/Wheat/WheatImages/Wheat_Cadenza_3_10_W_Ab_X100_20210928.jpg: 320x416 297 Stomatas, 148.7ms\n",
            "image 5/8 /content/drive/.shortcut-targets-by-id/1utdNO4hGJ5k4ywCz6vm_AckvDzHz4qbs/Wheat/WheatImages/Wheat_Cadenza_3_9_W_Ab_X100_20210928.jpg: 320x416 319 Stomatas, 149.1ms\n",
            "image 6/8 /content/drive/.shortcut-targets-by-id/1utdNO4hGJ5k4ywCz6vm_AckvDzHz4qbs/Wheat/WheatImages/Wheat_Cadenza_4_1_W_Ab_X100_20210928.jpg: 320x416 239 Stomatas, 148.3ms\n",
            "image 7/8 /content/drive/.shortcut-targets-by-id/1utdNO4hGJ5k4ywCz6vm_AckvDzHz4qbs/Wheat/WheatImages/Wheat_Cadenza_4_2_W_Ab_X100_20210928.jpg: 320x416 236 Stomatas, 149.3ms\n",
            "image 8/8 /content/drive/.shortcut-targets-by-id/1utdNO4hGJ5k4ywCz6vm_AckvDzHz4qbs/Wheat/WheatImages/Wheat_Cadenza_9_7_D_Ab_X100_20210928.jpg: 320x416 266 Stomatas, 150.7ms\n",
            "Speed: 0.7ms pre-process, 151.9ms inference, 4.1ms NMS per image at shape (1, 3, 416, 416)\n",
            "Results saved to \u001b[1mruns/detect/exp6\u001b[0m\n",
            "8 labels saved to runs/detect/exp6/labels\n"
          ]
        }
      ]
    },
    {
      "cell_type": "code",
      "source": [
        "!cat current_res |grep ^image|awk '{print $3\",\" $5}'|sed 's/://g' > result.csv"
      ],
      "metadata": {
        "id": "4WRrrtAKPy6c"
      },
      "execution_count": 11,
      "outputs": []
    },
    {
      "cell_type": "code",
      "source": [
        "# Download image and txt file\n",
        "! tar -cjvf res.tar.bz2 /content/yolov5/runs/detect/*"
      ],
      "metadata": {
        "id": "HjgqNxXPcM7D",
        "colab": {
          "base_uri": "https://localhost:8080/"
        },
        "outputId": "48225fd1-886c-4194-fc46-0d2df0f5c046"
      },
      "execution_count": null,
      "outputs": [
        {
          "output_type": "stream",
          "name": "stdout",
          "text": [
            "tar: Removing leading `/' from member names\n",
            "/content/yolov5/runs/detect/exp/\n",
            "/content/yolov5/runs/detect/exp/20220117142409.jpg\n",
            "/content/yolov5/runs/detect/exp/20211207143002.jpg\n",
            "/content/yolov5/runs/detect/exp/20211207141040.jpg\n",
            "/content/yolov5/runs/detect/exp/20211207135431.jpg\n",
            "/content/yolov5/runs/detect/exp/20211207144838.jpg\n",
            "/content/yolov5/runs/detect/exp/20211207143223.jpg\n",
            "/content/yolov5/runs/detect/exp/20211207144728.jpg\n",
            "/content/yolov5/runs/detect/exp/20211207143937.jpg\n",
            "/content/yolov5/runs/detect/exp/20220117142729.jpg\n",
            "/content/yolov5/runs/detect/exp/20211207141923.jpg\n",
            "/content/yolov5/runs/detect/exp/20211207135319.jpg\n",
            "/content/yolov5/runs/detect/exp/20211207150133.jpg\n",
            "/content/yolov5/runs/detect/exp/20211207145937.jpg\n",
            "/content/yolov5/runs/detect/exp/20211207142229.jpg\n",
            "/content/yolov5/runs/detect/exp/20211207140215.jpg\n",
            "/content/yolov5/runs/detect/exp/20211207135132.jpg\n",
            "/content/yolov5/runs/detect/exp/20211207150405.jpg\n",
            "/content/yolov5/runs/detect/exp/20211207140425.jpg\n",
            "/content/yolov5/runs/detect/exp/20211207143313.jpg\n",
            "/content/yolov5/runs/detect/exp/20211207141332.jpg\n",
            "/content/yolov5/runs/detect/exp/20211207143824.jpg\n",
            "/content/yolov5/runs/detect/exp/20211207140045.jpg\n",
            "/content/yolov5/runs/detect/exp/20211207142921.jpg\n",
            "/content/yolov5/runs/detect/exp/20211207142533.jpg\n",
            "/content/yolov5/runs/detect/exp/20211207145141.jpg\n",
            "/content/yolov5/runs/detect/exp/20220117142210.jpg\n",
            "/content/yolov5/runs/detect/exp/20211207141509.jpg\n",
            "/content/yolov5/runs/detect/exp/20211207144641.jpg\n",
            "/content/yolov5/runs/detect/exp/20211207141632.jpg\n",
            "/content/yolov5/runs/detect/exp/20211207143928.jpg\n",
            "/content/yolov5/runs/detect/exp/20211207142446.jpg\n",
            "/content/yolov5/runs/detect/exp/20220117142220.jpg\n",
            "/content/yolov5/runs/detect/exp/20220117142010.jpg\n",
            "/content/yolov5/runs/detect/exp/20220117142339.jpg\n",
            "/content/yolov5/runs/detect/exp/20211207134915.jpg\n",
            "/content/yolov5/runs/detect/exp/20220117141821.jpg\n",
            "/content/yolov5/runs/detect/exp/20220117142807.jpg\n",
            "/content/yolov5/runs/detect/exp/20211207140119.jpg\n",
            "/content/yolov5/runs/detect/exp/20211207141640.jpg\n",
            "/content/yolov5/runs/detect/exp/20211207140613.jpg\n",
            "/content/yolov5/runs/detect/exp/20211207142149.jpg\n",
            "/content/yolov5/runs/detect/exp/20211207142753.jpg\n",
            "/content/yolov5/runs/detect/exp/20211207140645.jpg\n",
            "/content/yolov5/runs/detect/exp/20220117142050.jpg\n",
            "/content/yolov5/runs/detect/exp/20211207134921.jpg\n",
            "/content/yolov5/runs/detect/exp/20211207142203.jpg\n",
            "/content/yolov5/runs/detect/exp/20211207144209.jpg\n",
            "/content/yolov5/runs/detect/exp/20211207144320.jpg\n",
            "/content/yolov5/runs/detect/exp/20211207145834.jpg\n",
            "/content/yolov5/runs/detect/exp/20211207135818.jpg\n",
            "/content/yolov5/runs/detect/exp/20220117142757.jpg\n",
            "/content/yolov5/runs/detect/exp/20211207135702.jpg\n",
            "/content/yolov5/runs/detect/exp/20211207141652.jpg\n",
            "/content/yolov5/runs/detect/exp/20211207145048.jpg\n",
            "/content/yolov5/runs/detect/exp/20211207135315.jpg\n",
            "/content/yolov5/runs/detect/exp/20211207142302.jpg\n",
            "/content/yolov5/runs/detect/exp/20211207135253.jpg\n",
            "/content/yolov5/runs/detect/exp/20211207150532.jpg\n",
            "/content/yolov5/runs/detect/exp/20211207143723.jpg\n",
            "/content/yolov5/runs/detect/exp/20220117142741.jpg\n",
            "/content/yolov5/runs/detect/exp/20211207141030.jpg\n",
            "/content/yolov5/runs/detect/exp/20211207140624.jpg\n",
            "/content/yolov5/runs/detect/exp/20211207143237.jpg\n",
            "/content/yolov5/runs/detect/exp/20211207142438.jpg\n",
            "/content/yolov5/runs/detect/exp/20211207145809(2).jpg\n",
            "/content/yolov5/runs/detect/exp/20211207140956.jpg\n",
            "/content/yolov5/runs/detect/exp/20211207142000.jpg\n",
            "/content/yolov5/runs/detect/exp/20211207145700.jpg\n",
            "/content/yolov5/runs/detect/exp/20211207144811.jpg\n",
            "/content/yolov5/runs/detect/exp/20211207150426.jpg\n",
            "/content/yolov5/runs/detect/exp/20211207150518.jpg\n",
            "/content/yolov5/runs/detect/exp/20211207142949(1).jpg\n",
            "/content/yolov5/runs/detect/exp/20211207141614.jpg\n",
            "/content/yolov5/runs/detect/exp/20211207144625.jpg\n",
            "/content/yolov5/runs/detect/exp/20211207144050.jpg\n",
            "/content/yolov5/runs/detect/exp/20211207144804.jpg\n",
            "/content/yolov5/runs/detect/exp/20211207140521.jpg\n",
            "/content/yolov5/runs/detect/exp/20211207142753(1).jpg\n",
            "/content/yolov5/runs/detect/exp/20211207143454.jpg\n",
            "/content/yolov5/runs/detect/exp/20211207140510.jpg\n",
            "/content/yolov5/runs/detect/exp/20211207145824.jpg\n",
            "/content/yolov5/runs/detect/exp/20211207150040.jpg\n",
            "/content/yolov5/runs/detect/exp/20211207140444.jpg\n",
            "/content/yolov5/runs/detect/exp/20211207142949(2).jpg\n",
            "/content/yolov5/runs/detect/exp/20211207142405.jpg\n",
            "/content/yolov5/runs/detect/exp/20211207140945.jpg\n",
            "/content/yolov5/runs/detect/exp/20220117142650.jpg\n",
            "/content/yolov5/runs/detect/exp/20211207140208.jpg\n",
            "/content/yolov5/runs/detect/exp/20211207141206.jpg\n",
            "/content/yolov5/runs/detect/exp/20211207145755.jpg\n",
            "/content/yolov5/runs/detect/exp/20220117142000.jpg\n",
            "/content/yolov5/runs/detect/exp/20220117142246.jpg\n",
            "/content/yolov5/runs/detect/exp/20211207135311.jpg\n",
            "/content/yolov5/runs/detect/exp/20211207141833.jpg\n",
            "/content/yolov5/runs/detect/exp/20211207135118.jpg\n",
            "/content/yolov5/runs/detect/exp/20211207135306.jpg\n",
            "/content/yolov5/runs/detect/exp/20211207140050.jpg\n",
            "/content/yolov5/runs/detect/exp/20211207144954.jpg\n",
            "/content/yolov5/runs/detect/exp/20211207144552.jpg\n",
            "/content/yolov5/runs/detect/exp/20211207141140.jpg\n",
            "/content/yolov5/runs/detect/exp/20211207135102.jpg\n",
            "/content/yolov5/runs/detect/exp/20211207142949.jpg\n",
            "/content/yolov5/runs/detect/exp/20220117141913.jpg\n",
            "/content/yolov5/runs/detect/exp/20211207150123.jpg\n",
            "/content/yolov5/runs/detect/exp/20211207140036.jpg\n",
            "/content/yolov5/runs/detect/exp/20211207150027.jpg\n",
            "/content/yolov5/runs/detect/exp/20211207134937.jpg\n",
            "/content/yolov5/runs/detect/exp/20211207145809(1).jpg\n",
            "/content/yolov5/runs/detect/exp/20211207135812.jpg\n",
            "/content/yolov5/runs/detect/exp/20211207143913.jpg\n",
            "/content/yolov5/runs/detect/exp/20211207141952.jpg\n",
            "/content/yolov5/runs/detect/exp/20211207141935.jpg\n",
            "/content/yolov5/runs/detect/exp/20211207145809.jpg\n",
            "/content/yolov5/runs/detect/exp/20220117141940.jpg\n",
            "/content/yolov5/runs/detect/exp/20211207145226.jpg\n",
            "/content/yolov5/runs/detect/exp/20211207144247.jpg\n",
            "/content/yolov5/runs/detect/exp/labels/\n",
            "/content/yolov5/runs/detect/exp/labels/20211207143621.txt\n",
            "/content/yolov5/runs/detect/exp/labels/20211207144050.txt\n",
            "/content/yolov5/runs/detect/exp/labels/20211207144804.txt\n",
            "/content/yolov5/runs/detect/exp/labels/20220117142050.txt\n",
            "/content/yolov5/runs/detect/exp/labels/20220117142431.txt\n",
            "/content/yolov5/runs/detect/exp/labels/20211207135306.txt\n",
            "/content/yolov5/runs/detect/exp/labels/20211207140215.txt\n",
            "/content/yolov5/runs/detect/exp/labels/20211207135702.txt\n",
            "/content/yolov5/runs/detect/exp/labels/20211207150123.txt\n",
            "/content/yolov5/runs/detect/exp/labels/20211207144641.txt\n",
            "/content/yolov5/runs/detect/exp/labels/20211207140936.txt\n",
            "/content/yolov5/runs/detect/exp/labels/20220117142339.txt\n",
            "/content/yolov5/runs/detect/exp/labels/20211207142753.txt\n",
            "/content/yolov5/runs/detect/exp/labels/20211207140208.txt\n",
            "/content/yolov5/runs/detect/exp/labels/20211207142047.txt\n",
            "/content/yolov5/runs/detect/exp/labels/20211207150426.txt\n",
            "/content/yolov5/runs/detect/exp/labels/20211207144815.txt\n",
            "/content/yolov5/runs/detect/exp/labels/20211207145809.txt\n",
            "/content/yolov5/runs/detect/exp/labels/20211207145937.txt\n",
            "/content/yolov5/runs/detect/exp/labels/20211207145122.txt\n",
            "/content/yolov5/runs/detect/exp/labels/20220117142246.txt\n",
            "/content/yolov5/runs/detect/exp/labels/20211207141040.txt\n",
            "/content/yolov5/runs/detect/exp/labels/20211207143223.txt\n",
            "/content/yolov5/runs/detect/exp/labels/20211207135102.txt\n",
            "/content/yolov5/runs/detect/exp/labels/20211207150416.txt\n",
            "/content/yolov5/runs/detect/exp/labels/20211207145824.txt\n",
            "/content/yolov5/runs/detect/exp/labels/20211207141206.txt\n",
            "/content/yolov5/runs/detect/exp/labels/20211207143313.txt\n",
            "/content/yolov5/runs/detect/exp/labels/20211207141923.txt\n",
            "/content/yolov5/runs/detect/exp/labels/20211207140645.txt\n",
            "/content/yolov5/runs/detect/exp/labels/20211207140425(1).txt\n",
            "/content/yolov5/runs/detect/exp/labels/20220117142650.txt\n",
            "/content/yolov5/runs/detect/exp/labels/20211207144209.txt\n",
            "/content/yolov5/runs/detect/exp/labels/20211207142446.txt\n",
            "/content/yolov5/runs/detect/exp/labels/20211207142921.txt\n",
            "/content/yolov5/runs/detect/exp/labels/20211207135818.txt\n",
            "/content/yolov5/runs/detect/exp/labels/20211207145809(2).txt\n",
            "/content/yolov5/runs/detect/exp/labels/20211207141509.txt\n",
            "/content/yolov5/runs/detect/exp/labels/20211207142438.txt\n",
            "/content/yolov5/runs/detect/exp/labels/20220117141842.txt\n",
            "/content/yolov5/runs/detect/exp/labels/20220117141913.txt\n",
            "/content/yolov5/runs/detect/exp/labels/20211207145101.txt\n",
            "/content/yolov5/runs/detect/exp/labels/20211207141652.txt\n",
            "/content/yolov5/runs/detect/exp/labels/20211207135224.txt\n",
            "/content/yolov5/runs/detect/exp/labels/20220117142409.txt\n",
            "/content/yolov5/runs/detect/exp/labels/20211207140337.txt\n",
            "/content/yolov5/runs/detect/exp/labels/20211207150405.txt\n",
            "/content/yolov5/runs/detect/exp/labels/20211207141935.txt\n",
            "/content/yolov5/runs/detect/exp/labels/20211207144811.txt\n",
            "/content/yolov5/runs/detect/exp/labels/20211207145834(1).txt\n",
            "/content/yolov5/runs/detect/exp/labels/20211207144120.txt\n",
            "/content/yolov5/runs/detect/exp/labels/20211207134921.txt\n",
            "/content/yolov5/runs/detect/exp/labels/20211207142203.txt\n",
            "/content/yolov5/runs/detect/exp/labels/20211207145700.txt\n",
            "/content/yolov5/runs/detect/exp/labels/20211207135311.txt\n",
            "/content/yolov5/runs/detect/exp/labels/20211207145048.txt\n",
            "/content/yolov5/runs/detect/exp/labels/20211207143824.txt\n",
            "/content/yolov5/runs/detect/exp/labels/20211207144433.txt\n",
            "/content/yolov5/runs/detect/exp/labels/20211207145302.txt\n",
            "/content/yolov5/runs/detect/exp/labels/20211207150518.txt\n",
            "/content/yolov5/runs/detect/exp/labels/20211207142405.txt\n",
            "/content/yolov5/runs/detect/exp/labels/20211207143454.txt\n",
            "/content/yolov5/runs/detect/exp/labels/20220117141802.txt\n",
            "/content/yolov5/runs/detect/exp/labels/20211207141030.txt\n",
            "/content/yolov5/runs/detect/exp/labels/20211207143237.txt\n",
            "/content/yolov5/runs/detect/exp/labels/20211207150040.txt\n",
            "/content/yolov5/runs/detect/exp/labels/20220117142010.txt\n",
            "/content/yolov5/runs/detect/exp/labels/20211207140613.txt\n",
            "/content/yolov5/runs/detect/exp/labels/20211207143002.txt\n",
            "/content/yolov5/runs/detect/exp/labels/20211207140608.txt\n",
            "/content/yolov5/runs/detect/exp/labels/20211207135315.txt\n",
            "/content/yolov5/runs/detect/exp/labels/20211207142000.txt\n",
            "/content/yolov5/runs/detect/exp/labels/20211207135132.txt\n",
            "/content/yolov5/runs/detect/exp/labels/20211207135802.txt\n",
            "/content/yolov5/runs/detect/exp/labels/20211207140945.txt\n",
            "/content/yolov5/runs/detect/exp/labels/20211207135812.txt\n",
            "/content/yolov5/runs/detect/exp/labels/20220117141940.txt\n",
            "/content/yolov5/runs/detect/exp/labels/20220117142000.txt\n",
            "/content/yolov5/runs/detect/exp/labels/20220117142328.txt\n",
            "/content/yolov5/runs/detect/exp/labels/20211207140119.txt\n",
            "/content/yolov5/runs/detect/exp/labels/20211207145755.txt\n",
            "/content/yolov5/runs/detect/exp/labels/20211207142149.txt\n",
            "/content/yolov5/runs/detect/exp/labels/20211207140045.txt\n",
            "/content/yolov5/runs/detect/exp/labels/20211207140510.txt\n",
            "/content/yolov5/runs/detect/exp/labels/20211207143937.txt\n",
            "/content/yolov5/runs/detect/exp/labels/20211207142935.txt\n",
            "/content/yolov5/runs/detect/exp/labels/20211207143104.txt\n",
            "/content/yolov5/runs/detect/exp/labels/20211207140036.txt\n",
            "/content/yolov5/runs/detect/exp/labels/20220117142729.txt\n",
            "/content/yolov5/runs/detect/exp/labels/20220117142344.txt\n",
            "/content/yolov5/runs/detect/exp/labels/20211207135118.txt\n",
            "/content/yolov5/runs/detect/exp/labels/20211207141833.txt\n",
            "/content/yolov5/runs/detect/exp/labels/20211207142302.txt\n",
            "/content/yolov5/runs/detect/exp/labels/20220117141821.txt\n",
            "/content/yolov5/runs/detect/exp/labels/20211207150532.txt\n",
            "/content/yolov5/runs/detect/exp/labels/20220117142807.txt\n",
            "/content/yolov5/runs/detect/exp/labels/20211207143928.txt\n",
            "/content/yolov5/runs/detect/exp/labels/20211207142949(1).txt\n",
            "/content/yolov5/runs/detect/exp/labels/20211207145141.txt\n",
            "/content/yolov5/runs/detect/exp/labels/20211207135431.txt\n",
            "/content/yolov5/runs/detect/exp/labels/20211207135319.txt\n",
            "/content/yolov5/runs/detect/exp/labels/20211207140444.txt\n",
            "/content/yolov5/runs/detect/exp/labels/20211207143723.txt\n",
            "/content/yolov5/runs/detect/exp/labels/20211207142753(1).txt\n",
            "/content/yolov5/runs/detect/exp/labels/20211207141523.txt\n",
            "/content/yolov5/runs/detect/exp/labels/20211207135517.txt\n",
            "/content/yolov5/runs/detect/exp/labels/20220117142210.txt\n",
            "/content/yolov5/runs/detect/exp/labels/20211207145834.txt\n",
            "/content/yolov5/runs/detect/exp/labels/20211207144552.txt\n",
            "/content/yolov5/runs/detect/exp/labels/20211207141632.txt\n",
            "/content/yolov5/runs/detect/exp/labels/20211207140521.txt\n",
            "/content/yolov5/runs/detect/exp/labels/20211207140425.txt\n",
            "/content/yolov5/runs/detect/exp/labels/20211207134937.txt\n",
            "/content/yolov5/runs/detect/exp/labels/20211207143253.txt\n",
            "/content/yolov5/runs/detect/exp/labels/20211207135253.txt\n",
            "/content/yolov5/runs/detect/exp/labels/20211207144954.txt\n",
            "/content/yolov5/runs/detect/exp/labels/20211207142949(2).txt\n",
            "/content/yolov5/runs/detect/exp/labels/20211207134915.txt\n",
            "/content/yolov5/runs/detect/exp/labels/20211207141614.txt\n",
            "/content/yolov5/runs/detect/exp/labels/20211207144247.txt\n",
            "/content/yolov5/runs/detect/exp/labels/20211207150133.txt\n",
            "/content/yolov5/runs/detect/exp/labels/20211207140624.txt\n",
            "/content/yolov5/runs/detect/exp/labels/20211207142229.txt\n",
            "/content/yolov5/runs/detect/exp/labels/20220117142722.txt\n",
            "/content/yolov5/runs/detect/exp/labels/20220117142741.txt\n",
            "/content/yolov5/runs/detect/exp/labels/20211207142533.txt\n",
            "/content/yolov5/runs/detect/exp/labels/20211207144554.txt\n",
            "/content/yolov5/runs/detect/exp/labels/20211207142949.txt\n",
            "/content/yolov5/runs/detect/exp/labels/20211207145809(1).txt\n",
            "/content/yolov5/runs/detect/exp/labels/20211207150027.txt\n",
            "/content/yolov5/runs/detect/exp/labels/20211207144625.txt\n",
            "/content/yolov5/runs/detect/exp/labels/20211207141952.txt\n",
            "/content/yolov5/runs/detect/exp/labels/20220117142757.txt\n",
            "/content/yolov5/runs/detect/exp/labels/20220117142220.txt\n",
            "/content/yolov5/runs/detect/exp/labels/20211207144320.txt\n",
            "/content/yolov5/runs/detect/exp/labels/20211207140956.txt\n",
            "/content/yolov5/runs/detect/exp/labels/20211207141332.txt\n",
            "/content/yolov5/runs/detect/exp/labels/20211207145834(2).txt\n",
            "/content/yolov5/runs/detect/exp/labels/20211207143346.txt\n",
            "/content/yolov5/runs/detect/exp/labels/20211207144728.txt\n",
            "/content/yolov5/runs/detect/exp/labels/20211207141640.txt\n",
            "/content/yolov5/runs/detect/exp/labels/20211207141140.txt\n",
            "/content/yolov5/runs/detect/exp/labels/20211207143913.txt\n",
            "/content/yolov5/runs/detect/exp/labels/20211207144838.txt\n",
            "/content/yolov5/runs/detect/exp/labels/20211207140834.txt\n",
            "/content/yolov5/runs/detect/exp/labels/20211207140050.txt\n",
            "/content/yolov5/runs/detect/exp/labels/20211207145226.txt\n",
            "/content/yolov5/runs/detect/exp/20211207144554.jpg\n",
            "/content/yolov5/runs/detect/exp/20211207140834.jpg\n",
            "/content/yolov5/runs/detect/exp/20220117142722.jpg\n",
            "/content/yolov5/runs/detect/exp/20211207143104.jpg\n",
            "/content/yolov5/runs/detect/exp/20211207140425(1).jpg\n",
            "/content/yolov5/runs/detect/exp/20211207135517.jpg\n",
            "/content/yolov5/runs/detect/exp/20220117142344.jpg\n",
            "/content/yolov5/runs/detect/exp/20220117141842.jpg\n",
            "/content/yolov5/runs/detect/exp/20211207142935.jpg\n",
            "/content/yolov5/runs/detect/exp/20211207140337.jpg\n",
            "/content/yolov5/runs/detect/exp/20211207145122.jpg\n",
            "/content/yolov5/runs/detect/exp/20211207144815.jpg\n",
            "/content/yolov5/runs/detect/exp/20211207144120.jpg\n",
            "/content/yolov5/runs/detect/exp/20211207143253.jpg\n",
            "/content/yolov5/runs/detect/exp/20220117141802.jpg\n",
            "/content/yolov5/runs/detect/exp/20211207142047.jpg\n",
            "/content/yolov5/runs/detect/exp/20211207140608.jpg\n",
            "/content/yolov5/runs/detect/exp/20211207141523.jpg\n",
            "/content/yolov5/runs/detect/exp/20211207145302.jpg\n",
            "/content/yolov5/runs/detect/exp/20211207140936.jpg\n",
            "/content/yolov5/runs/detect/exp/20211207145834(1).jpg\n",
            "/content/yolov5/runs/detect/exp/20220117142328.jpg\n",
            "/content/yolov5/runs/detect/exp/20211207145834(2).jpg\n",
            "/content/yolov5/runs/detect/exp/20211207143346.jpg\n",
            "/content/yolov5/runs/detect/exp/20211207150416.jpg\n",
            "/content/yolov5/runs/detect/exp/20211207144433.jpg\n",
            "/content/yolov5/runs/detect/exp/20211207135224.jpg\n",
            "/content/yolov5/runs/detect/exp/20211207135802.jpg\n",
            "/content/yolov5/runs/detect/exp/20211207145101.jpg\n",
            "/content/yolov5/runs/detect/exp/20211207143621.jpg\n",
            "/content/yolov5/runs/detect/exp/20220117142431.jpg\n"
          ]
        }
      ]
    }
  ]
}